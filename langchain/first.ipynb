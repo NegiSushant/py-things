{
 "cells": [
  {
   "cell_type": "code",
   "execution_count": null,
   "id": "8381d844",
   "metadata": {},
   "outputs": [],
   "source": [
    "import os\n",
    "from dotenv import load_dotenv\n",
    "\n",
    "load_dotenv()\n",
    "service_endpoint = os.getenv('Endpoint')\n",
    "api_key = os.getenv('Keys')\n",
    "deployement_name = os.getenv('DeploymentName')\n",
    "model_name = os.getenv('ModelName')\n",
    "api_version = os.getenv('ApiVersion')"
   ]
  },
  {
   "cell_type": "code",
   "execution_count": null,
   "id": "c60b1c98",
   "metadata": {},
   "outputs": [],
   "source": [
    "from langchain_openai import AzureChatOpenAI\n",
    "\n",
    "\n",
    "client = AzureChatOpenAI(\n",
    "    openai_api_version=api_version,\n",
    "    temperature=0.0,\n",
    "    max_tokens=3000,\n",
    "    azure_endpoint=service_endpoint,\n",
    "    openai_api_key=api_key,\n",
    "    deployment_name=deployement_name,\n",
    ")\n"
   ]
  },
  {
   "cell_type": "code",
   "execution_count": null,
   "id": "19597246",
   "metadata": {},
   "outputs": [],
   "source": [
    "result = client.invoke(\"what is the capital of uttarakhand?\").content\n",
    "print(result)"
   ]
  },
  {
   "cell_type": "code",
   "execution_count": null,
   "id": "b3962085",
   "metadata": {},
   "outputs": [],
   "source": [
    "from langchain_core.messages import SystemMessage, HumanMessage, AIMessage\n",
    "\n",
    "text = \"what would be a good company name for a company that makes colorful socks?\"\n",
    "\n",
    "messages = [\n",
    "    SystemMessage(\n",
    "        content=\"You are a helpful assistant that generates company names.\"\n",
    "    ),\n",
    "    HumanMessage(content=text)\n",
    "]\n",
    "\n",
    "result = client.invoke(messages).content\n",
    "print(result)"
   ]
  },
  {
   "cell_type": "code",
   "execution_count": null,
   "id": "ff0cae0d",
   "metadata": {},
   "outputs": [],
   "source": [
    "from langchain_core.prompts.chat import ChatPromptTemplate\n",
    "\n",
    "chat_prompt = ChatPromptTemplate.from_messages(\n",
    "    [\n",
    "        (\"system\", \"You are a helpful assistant that generates company names\"),\n",
    "        (\"human\", \"{text}\")\n",
    "    ]\n",
    ")\n",
    "\n",
    "result = chat_prompt.invoke({\n",
    "    \"text\": \"What would be a good company that makes Electric Cars?\"\n",
    "})\n",
    "\n",
    "ai_llm_result = client.invoke(result)\n",
    "print(ai_llm_result.content)"
   ]
  },
  {
   "cell_type": "markdown",
   "id": "8bd2977c",
   "metadata": {},
   "source": [
    "### Straming in Langchain"
   ]
  },
  {
   "cell_type": "code",
   "execution_count": null,
   "id": "393975db",
   "metadata": {},
   "outputs": [],
   "source": [
    "# client.stream=True\n",
    "\n",
    "import sys\n",
    "\n",
    "for chunk in client.stream(\"what is the capital of west bengal?\"):\n",
    "    print(chunk.content, end=\"\", flush=True)\n",
    "    sys.stdout.flush()"
   ]
  },
  {
   "cell_type": "markdown",
   "id": "0b61d69c",
   "metadata": {},
   "source": [
    "## Output Parsing"
   ]
  },
  {
   "cell_type": "code",
   "execution_count": null,
   "id": "35d59343",
   "metadata": {},
   "outputs": [],
   "source": [
    "from langchain_core.output_parsers import PydanticOutputParser\n",
    "from pydantic import BaseModel, Field\n",
    "from typing import List\n",
    "from langchain_core.prompts import ChatPromptTemplate, SystemMessagePromptTemplate"
   ]
  },
  {
   "cell_type": "code",
   "execution_count": null,
   "id": "e7416117",
   "metadata": {},
   "outputs": [],
   "source": [
    "class Joke(BaseModel):\n",
    "    setup: str = Field(description=\"The setup to the joke.\")\n",
    "    punchline: str = Field(description=\"The punchline to the joke.\")\n",
    "\n",
    "class Jokes(BaseModel):\n",
    "    jokes: List[Joke] = Field(description=\"A list of jokes.\")\n",
    "\n",
    "parser = PydanticOutputParser(pydantic_object=Joke)\n",
    "\n",
    "\n"
   ]
  },
  {
   "cell_type": "code",
   "execution_count": null,
   "id": "9750a136",
   "metadata": {},
   "outputs": [],
   "source": [
    "template = 'Answer the user query.\\n{format_instructions}\\n{query}'\n",
    "\n",
    "system_message_prompt = SystemMessagePromptTemplate.from_template(template)\n",
    "\n",
    "chatprompt = ChatPromptTemplate.from_messages([system_message_prompt])\n",
    "\n",
    "messages = chatprompt.invoke({\n",
    "    \"query\": \"What is a really funny joke about LLM?\",\n",
    "    \"format_instructions\": parser.get_format_instructions()\n",
    "})"
   ]
  },
  {
   "cell_type": "code",
   "execution_count": null,
   "id": "d49a0a15",
   "metadata": {},
   "outputs": [],
   "source": [
    "result = client.invoke(messages)"
   ]
  },
  {
   "cell_type": "code",
   "execution_count": null,
   "id": "f714fa93",
   "metadata": {},
   "outputs": [],
   "source": [
    "try:\n",
    "    joke_object = parser.parse(result.content)\n",
    "    print(joke_object.setup)\n",
    "    print(joke_object.punchline)\n",
    "except Exception as e:\n",
    "    print(e)"
   ]
  },
  {
   "cell_type": "code",
   "execution_count": null,
   "id": "6520f144",
   "metadata": {},
   "outputs": [],
   "source": [
    "structured_llm = client.with_structured_output(Joke)\n",
    "result = structured_llm.invoke(\"What is a really funny joke about Chat-gpt?\")\n"
   ]
  },
  {
   "cell_type": "code",
   "execution_count": null,
   "id": "96da8d58",
   "metadata": {},
   "outputs": [],
   "source": [
    "print(result.punchline)\n",
    "print(type(result))"
   ]
  }
 ],
 "metadata": {
  "kernelspec": {
   "display_name": ".venv",
   "language": "python",
   "name": "python3"
  },
  "language_info": {
   "codemirror_mode": {
    "name": "ipython",
    "version": 3
   },
   "file_extension": ".py",
   "mimetype": "text/x-python",
   "name": "python",
   "nbconvert_exporter": "python",
   "pygments_lexer": "ipython3",
   "version": "3.10.0"
  }
 },
 "nbformat": 4,
 "nbformat_minor": 5
}
